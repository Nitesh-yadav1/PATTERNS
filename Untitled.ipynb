{
 "cells": [
  {
   "cell_type": "code",
   "execution_count": 2,
   "metadata": {},
   "outputs": [
    {
     "name": "stdout",
     "output_type": "stream",
     "text": [
      "5\n",
      "    * \n",
      "   * * \n",
      "  * * * \n",
      " * * * * \n",
      "* * * * * \n",
      " * * * * \n",
      "  * * * \n",
      "   * * \n",
      "    * \n"
     ]
    }
   ],
   "source": [
    "n=int(input())\n",
    "for i in range(n):\n",
    "    print(' '*(n-i-1)+'* '*(i+1))\n",
    "for i in range(n-1):\n",
    "    print(' '*(i+1)+'* '*(n-i-1))"
   ]
  },
  {
   "cell_type": "code",
   "execution_count": 5,
   "metadata": {},
   "outputs": [
    {
     "name": "stdout",
     "output_type": "stream",
     "text": [
      "5\n",
      "     1\n",
      "     12\n",
      "     123\n",
      "     1234\n",
      "     12345\n"
     ]
    }
   ],
   "source": [
    "n=int(input())\n",
    "i=1\n",
    "while i<=n:\n",
    "    spaces=1\n",
    "    #spaces\n",
    "    while spaces<=n:\n",
    "        print(\" \",end='')\n",
    "        spaces=spaces+1\n",
    "    num=1\n",
    "    # increasing seq\n",
    "    while num<=i:\n",
    "        print(num,end='')\n",
    "        num=num+1\n",
    "\n",
    "    print()\n",
    "    i=i+1"
   ]
  },
  {
   "cell_type": "code",
   "execution_count": 16,
   "metadata": {},
   "outputs": [
    {
     "name": "stdout",
     "output_type": "stream",
     "text": [
      "3\n",
      "1   \n",
      "   \n",
      "   \n",
      "444"
     ]
    }
   ],
   "source": [
    "n=int(input())\n",
    "i=1\n",
    "num=1\n",
    "# increasing seq\n",
    "while num<=i:\n",
    "    print(i,end='')\n",
    "    num=num+1\n",
    "    while i<=n:\n",
    "        spaces=1\n",
    "            #spaces\n",
    "        while spaces<=n:\n",
    "            print(\" \",end='')\n",
    "            spaces=spaces+1\n",
    "        print()\n",
    "        i=i+1"
   ]
  },
  {
   "cell_type": "code",
   "execution_count": 2,
   "metadata": {},
   "outputs": [
    {
     "name": "stdout",
     "output_type": "stream",
     "text": [
      "4\n",
      "*000*000*\n",
      "0*00*00*0\n",
      "00*0*0*00\n",
      "000***000\n"
     ]
    }
   ],
   "source": [
    "n=int(input())\n",
    "i=1\n",
    "j=1\n",
    "while i<=n:\n",
    "    j=1\n",
    "    while j<=n:\n",
    "        if i==j:\n",
    "            print(\"*\",end='',flush=True)\n",
    "        else:\n",
    "            print(\"0\",end='',flush=True)\n",
    "        j=j+1\n",
    "    j=j-1\n",
    "    print(\"*\",end='',flush=True)\n",
    "    while j>=1:\n",
    "        if i==j:\n",
    "            print(\"*\",end='',flush=True)\n",
    "        else:\n",
    "            print(\"0\",end='',flush=True)\n",
    "        j=j-1\n",
    "    print();\n",
    "    i=i+1"
   ]
  },
  {
   "cell_type": "code",
   "execution_count": 11,
   "metadata": {},
   "outputs": [
    {
     "name": "stdout",
     "output_type": "stream",
     "text": [
      "4\n",
      "   1\n",
      "  112\n",
      " 12123\n",
      "1231234\n"
     ]
    }
   ],
   "source": [
    "n=int(input())\n",
    "i=1\n",
    "while i<=n:\n",
    "    spaces=1\n",
    "    #spaces\n",
    "    while spaces<=n-i:\n",
    "        print(\" \",end='')\n",
    "        spaces=spaces+1\n",
    "         # decreasing seq\n",
    "    num=i-1\n",
    "    while num>=1:\n",
    "        print(p,end='')\n",
    "        num=num-1\n",
    "    num=1\n",
    "    # increasing seq\n",
    "    while num<=i:\n",
    "        print(num,end='')\n",
    "        num=num+1\n",
    "    print()\n",
    "    i=i+1"
   ]
  },
  {
   "cell_type": "code",
   "execution_count": 4,
   "metadata": {},
   "outputs": [
    {
     "name": "stdout",
     "output_type": "stream",
     "text": [
      "4\n"
     ]
    },
    {
     "ename": "TypeError",
     "evalue": "print() got an unexpected keyword argument 'end'",
     "output_type": "error",
     "traceback": [
      "\u001b[1;31m---------------------------------------------------------------------------\u001b[0m",
      "\u001b[1;31mTypeError\u001b[0m                                 Traceback (most recent call last)",
      "\u001b[1;32m<ipython-input-4-5089258d867e>\u001b[0m in \u001b[0;36m<module>\u001b[1;34m\u001b[0m\n\u001b[0;32m      5\u001b[0m     \u001b[1;31m#spaces\u001b[0m\u001b[1;33m\u001b[0m\u001b[1;33m\u001b[0m\u001b[1;33m\u001b[0m\u001b[0m\n\u001b[0;32m      6\u001b[0m     \u001b[1;32mwhile\u001b[0m \u001b[0mspaces\u001b[0m\u001b[1;33m<=\u001b[0m\u001b[0mn\u001b[0m\u001b[1;33m:\u001b[0m\u001b[1;33m\u001b[0m\u001b[1;33m\u001b[0m\u001b[0m\n\u001b[1;32m----> 7\u001b[1;33m         \u001b[0mprint\u001b[0m\u001b[1;33m(\u001b[0m\u001b[1;34m\" \"\u001b[0m\u001b[1;33m,\u001b[0m\u001b[0mend\u001b[0m\u001b[1;33m=\u001b[0m\u001b[1;34m''\u001b[0m\u001b[1;33m)\u001b[0m\u001b[1;33m\u001b[0m\u001b[1;33m\u001b[0m\u001b[0m\n\u001b[0m\u001b[0;32m      8\u001b[0m         \u001b[0mspaces\u001b[0m\u001b[1;33m=\u001b[0m\u001b[0mspaces\u001b[0m\u001b[1;33m+\u001b[0m\u001b[1;36m1\u001b[0m\u001b[1;33m\u001b[0m\u001b[1;33m\u001b[0m\u001b[0m\n\u001b[0;32m      9\u001b[0m     \u001b[0mnum\u001b[0m\u001b[1;33m=\u001b[0m\u001b[1;36m1\u001b[0m\u001b[1;33m\u001b[0m\u001b[1;33m\u001b[0m\u001b[0m\n",
      "\u001b[1;31mTypeError\u001b[0m: print() got an unexpected keyword argument 'end'"
     ]
    }
   ],
   "source": [
    "n=int(input())\n",
    "i=1\n",
    "while i<=n:\n",
    "    spaces=1\n",
    "    #spaces\n",
    "    while spaces<=n:\n",
    "        print(\" \",end='')\n",
    "        spaces=spaces+1\n",
    "    num=1\n",
    "    # increasing seq\n",
    "    while num<=i:\n",
    "        print(num,end='')\n",
    "        num=num+1\n",
    "\t\t # decreasing seq\n",
    "    num=i-1\n",
    "    while num>=1:\n",
    "        print(num,end='')\n",
    "        num=num-1\n",
    "    print()\n",
    "    i=i+1"
   ]
  },
  {
   "cell_type": "code",
   "execution_count": 3,
   "metadata": {},
   "outputs": [],
   "source": [
    "def print(n):\n",
    "    for i in range(n+n-1):\n",
    "        size=i\n",
    "        if i>=n:\n",
    "            size=n+n-i-2\n",
    "        for j in range(size+size):\n",
    "            if j<size:\n",
    "                print(' ',end='')\n",
    "            else:\n",
    "                print('*',end='')\n",
    "        print()\n",
    "        i=i+1"
   ]
  }
 ],
 "metadata": {
  "kernelspec": {
   "display_name": "Python 3",
   "language": "python",
   "name": "python3"
  },
  "language_info": {
   "codemirror_mode": {
    "name": "ipython",
    "version": 3
   },
   "file_extension": ".py",
   "mimetype": "text/x-python",
   "name": "python",
   "nbconvert_exporter": "python",
   "pygments_lexer": "ipython3",
   "version": "3.8.5"
  }
 },
 "nbformat": 4,
 "nbformat_minor": 4
}
